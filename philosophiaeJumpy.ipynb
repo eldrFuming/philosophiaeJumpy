{
 "cells": [
  {
   "cell_type": "code",
   "execution_count": 1,
   "metadata": {},
   "outputs": [],
   "source": [
    "import math\n",
    "import numpy as np\n",
    "import re\n",
    "\n",
    "from __future__ import division\n",
    "from matplotlib.pyplot import *\n",
    "import matplotlib.pyplot as plt\n",
    "from matplotlib import pylab\n",
    "from matplotlib import colors as mcolors\n",
    "colors = dict(mcolors.BASE_COLORS, **mcolors.CSS4_COLORS)\n",
    "from numpy import random\n",
    "import glob\n",
    "import re"
   ]
  },
  {
   "cell_type": "code",
   "execution_count": 2,
   "metadata": {},
   "outputs": [],
   "source": [
    "rcParams['figure.figsize'] = (20, 16)\n",
    "rcParams['font.size'] = 20"
   ]
  },
  {
   "cell_type": "code",
   "execution_count": 3,
   "metadata": {},
   "outputs": [],
   "source": [
    "G = 6.67e-11\n",
    "\n",
    "Me = 5.972e24\n",
    "Re = 6.4e6\n",
    "\n",
    "g = 9.8\n",
    "\n",
    "def calcvNow(h0, hNow):\n",
    "    v = np.sqrt(2* G * Me * (1 / (Re + hNow) - 1 / (Re + h0)))\n",
    "    return v\n",
    "\n",
    "\n",
    "def blogt_ofh(h):\n",
    "    t = np.sqrt(Re / 2 / g)* (-np.log(np.sqrt((Re + h)/Re) - np.sqrt(h/Re)) + np.sqrt(Re * h \\\n",
    "                                                                                    +h**2)/Re)\n",
    "    return t\n",
    "\n",
    "def walframSol(h):\n",
    "    t = Re *(np.sqrt(h/Re * (h+Re)/Re) + np.arcsinh(np.sqrt(h/Re))) * np.sqrt(1/2/g/Re)\n",
    "    return t\n",
    "\n",
    "def vNow_r(M, r0, rNow, v0):\n",
    "    v = np.sqrt(2 * G * M * (1/rNow - 1/r0) + v0**2)\n",
    "    return v\n",
    "\n",
    "def numTimebyV(M, v0, r0, rt, chop = 100):#mass as singularity\n",
    "    rNow = r0\n",
    "    rStep = (r0 - rt) / chop\n",
    "    vPrevious = v0\n",
    "    tTotal = 0\n",
    "    while rNow > rt:\n",
    "        rNow -= rStep\n",
    "        vNow = vNow_r(M, r0, rNow, v0)\n",
    "        vMean = 0.5 * (vPrevious + vNow)\n",
    "        vPrevious = vNow\n",
    "        deltaT = rStep / vMean\n",
    "        tTotal += deltaT\n",
    "    return tTotal"
   ]
  },
  {
   "cell_type": "code",
   "execution_count": 4,
   "metadata": {},
   "outputs": [
    {
     "name": "stdout",
     "output_type": "stream",
     "text": [
      "1.340771e+08\n"
     ]
    }
   ],
   "source": [
    "print '%e'%(86400 * np.sqrt(8*Me*G)/np.pi)**(2/3)\n"
   ]
  },
  {
   "cell_type": "code",
   "execution_count": 5,
   "metadata": {},
   "outputs": [
    {
     "name": "stdout",
     "output_type": "stream",
     "text": [
      "Hephaestus fall on to earth from 1.281000e+08 m for a whole day\n",
      "24.005867808972933 hrs\n"
     ]
    }
   ],
   "source": [
    "tTotal = 0\n",
    "hinitial = 1.345e8 - Re\n",
    "hNow = hinitial\n",
    "hStep = 1e2\n",
    "vPrevious = 0\n",
    "while hNow > 0:\n",
    "    hNow -= hStep\n",
    "    vNow = calcvNow(hinitial, hNow)\n",
    "    vMean = 0.5 * (vPrevious + vNow)\n",
    "    vPrevious = vNow\n",
    "    deltaT = hStep / vMean\n",
    "    tTotal += deltaT\n",
    "    \n",
    "print 'Hephaestus fall on to earth from %e m for a whole day'%hinitial\n",
    "print tTotal/3600, 'hrs'\n"
   ]
  },
  {
   "cell_type": "code",
   "execution_count": 6,
   "metadata": {},
   "outputs": [
    {
     "name": "stdout",
     "output_type": "stream",
     "text": [
      "11119.420599953175\n"
     ]
    }
   ],
   "source": [
    "print calcvNow(9.45e8, 0)"
   ]
  },
  {
   "cell_type": "code",
   "execution_count": 7,
   "metadata": {},
   "outputs": [
    {
     "name": "stdout",
     "output_type": "stream",
     "text": [
      "24.023442187408\n"
     ]
    }
   ],
   "source": [
    "print blogt_ofh(9.45e8)/3600"
   ]
  },
  {
   "cell_type": "code",
   "execution_count": 8,
   "metadata": {},
   "outputs": [
    {
     "name": "stdout",
     "output_type": "stream",
     "text": [
      "1.5707963267948966\n"
     ]
    }
   ],
   "source": [
    "print np.arctan(np.inf)"
   ]
  },
  {
   "cell_type": "code",
   "execution_count": 9,
   "metadata": {},
   "outputs": [
    {
     "name": "stdout",
     "output_type": "stream",
     "text": [
      "24.023442187407994\n"
     ]
    }
   ],
   "source": [
    "print walframSol(9.45e8)/3600"
   ]
  },
  {
   "cell_type": "markdown",
   "metadata": {},
   "source": [
    "<img src=\"dm1.gif\" width=\"750\" align=\"center\">"
   ]
  },
  {
   "cell_type": "markdown",
   "metadata": {},
   "source": [
    "此计算有误，对速度计算时上下限错误，应为s到h"
   ]
  },
  {
   "cell_type": "markdown",
   "metadata": {},
   "source": [
    "$v = \\sqrt{2GM(\\frac{1}{r} - \\frac{1}{R})} = \\sqrt{2GM / R(R/r - 1)}$\n",
    "\n",
    "$t = 1/\\sqrt{2GM / R} \\int_0^{R}\\frac{dr}{\\sqrt{R/r - 1}}$\n",
    "\n",
    "define $r=R\\sin^2\\theta$\n",
    "\n",
    "$\\int_0^{R}\\frac{dr}{\\sqrt{R/r - 1}} = \\int_{0}^{\\frac{\\pi}{2}} 2R sin^2\\theta d\\theta = 2R \\frac{\\pi}{4} = \\frac{\\pi}{2}R$\n",
    "\n",
    "$t = 1/\\sqrt{2GM / R}  \\frac{\\pi}{2}R = \\frac{\\pi R^{3/2}}{\\sqrt{8GM}}$\n",
    "\n",
    "$\\int_{R_0}^{R}\\frac{dr}{\\sqrt{R/r - 1}} = \\int_{\\arcsin{\\sqrt{\\frac{R_0}{R}}}}^{\\frac{\\pi}{2}} 2R sin^2\\theta d\\theta $\n",
    "\n",
    "$\\int \\sin^2\\theta d\\theta = \\frac{1}{2} (\\theta - \\sin\\theta\\cos\\theta) + C$\n",
    "\n",
    "$t = R (\\frac{\\pi}{2} - (\\arcsin\\sqrt{\\frac{R_0}{R}} - \\sqrt{\\frac{R_0}{R}}\\sqrt{1 - \\frac{R_0}{R}}))$\n",
    "\n",
    "$t = \\frac{R^{3/2}}{\\sqrt{8GM}}(\\pi - 2(\\arcsin\\sqrt{\\frac{R_0}{R}} - \\sqrt{\\frac{R_0}{R}}\\sqrt{1 - \\frac{R_0}{R}})))$\n",
    "\n"
   ]
  },
  {
   "cell_type": "code",
   "execution_count": 10,
   "metadata": {},
   "outputs": [],
   "source": [
    "def actualTime(R0, R):\n",
    "    R0oR = R0 / R\n",
    "    sqrtR0oR = np.sqrt(R0oR)\n",
    "    angle = 2 * (np.arcsin(sqrtR0oR) - sqrtR0oR * np.sqrt(1 - R0oR))\n",
    "    t = 1/np.sqrt(8 * G * Me) * R**1.5 * (np.pi - angle)\n",
    "    return t\n",
    "\n",
    "def actualTime_approx(R):\n",
    "    R0 = Re\n",
    "    t = 1/np.sqrt(8 * G * Me) * (np.pi * R**1.5)\n",
    "    return t"
   ]
  },
  {
   "cell_type": "code",
   "execution_count": 11,
   "metadata": {},
   "outputs": [
    {
     "name": "stdout",
     "output_type": "stream",
     "text": [
      "23.89837287464845\n"
     ]
    }
   ],
   "source": [
    "print actualTime(Re, 1.341e8)/3600"
   ]
  },
  {
   "cell_type": "code",
   "execution_count": 12,
   "metadata": {},
   "outputs": [
    {
     "name": "stdout",
     "output_type": "stream",
     "text": [
      "23.89837287464845\n",
      "24.006161790817533\n"
     ]
    }
   ],
   "source": [
    "testH = 1.341e8\n",
    "print actualTime(Re, testH)/3600\n",
    "print actualTime_approx(testH)/3600"
   ]
  },
  {
   "cell_type": "code",
   "execution_count": 13,
   "metadata": {},
   "outputs": [
    {
     "name": "stdout",
     "output_type": "stream",
     "text": [
      "388.0400982086867\n",
      "86422.18244694312\n",
      "86422.18244694312\n"
     ]
    }
   ],
   "source": [
    "print actualTime_approx(testH) - actualTime(Re, testH)\n",
    "\n",
    "print actualTime(0, testH) \n",
    "print actualTime_approx(testH)"
   ]
  },
  {
   "cell_type": "code",
   "execution_count": 14,
   "metadata": {},
   "outputs": [
    {
     "name": "stdout",
     "output_type": "stream",
     "text": [
      "587.8291071606981\n",
      "10887.518025286212\n"
     ]
    }
   ],
   "source": [
    "print Re / calcvNow(hNow=0, h0=testH-Re)\n",
    "print calcvNow(hNow=0, h0=testH-Re)\n",
    "vRe = calcvNow(hNow=0, h0=testH-Re)"
   ]
  },
  {
   "cell_type": "code",
   "execution_count": 15,
   "metadata": {},
   "outputs": [
    {
     "name": "stdout",
     "output_type": "stream",
     "text": [
      "387.9226426927624\n",
      "86399.07818339506\n"
     ]
    }
   ],
   "source": [
    "print numTimebyV(Me, vRe, Re, 1, chop = 250)\n",
    "print numTimebyV(Me, 0, testH, 1, chop = 250)"
   ]
  },
  {
   "cell_type": "code",
   "execution_count": 16,
   "metadata": {},
   "outputs": [
    {
     "name": "stdout",
     "output_type": "stream",
     "text": [
      "[1.08875180e+04 1.08866249e+04 1.08857320e+04 ... 1.15285456e+01\n",
      " 9.41298297e+00 6.65595927e+00]\n"
     ]
    }
   ],
   "source": [
    "Rplot = np.arange(Re, testH, 1000)\n",
    "vR = vNow_r(Me, testH, Rplot, 0)\n",
    "print vR"
   ]
  },
  {
   "cell_type": "code",
   "execution_count": 17,
   "metadata": {},
   "outputs": [
    {
     "data": {
      "text/plain": [
       "<matplotlib.legend.Legend at 0x7f33aacd5050>"
      ]
     },
     "execution_count": 17,
     "metadata": {},
     "output_type": "execute_result"
    },
    {
     "data": {
      "image/png": "[encoded data removed]",
      "text/plain": [
       "<Figure size 1440x1152 with 1 Axes>"
      ]
     },
     "metadata": {},
     "output_type": "display_data"
    }
   ],
   "source": [
    "plot(Rplot, vR)\n",
    "\n",
    "axvline(Re, ls = '--', label = 'earth radius')\n",
    "xlabel('distance to center [m]')\n",
    "ylabel('speed [m/s]')\n",
    "grid()\n",
    "legend()"
   ]
  },
  {
   "cell_type": "code",
   "execution_count": null,
   "metadata": {},
   "outputs": [],
   "source": []
  }
 ],
 "metadata": {
  "kernelspec": {
   "display_name": "Python 2",
   "language": "python",
   "name": "python2"
  },
  "language_info": {
   "codemirror_mode": {
    "name": "ipython",
    "version": 2
   },
   "file_extension": ".py",
   "mimetype": "text/x-python",
   "name": "python",
   "nbconvert_exporter": "python",
   "pygments_lexer": "ipython2",
   "version": "2.7.16"
  }
 },
 "nbformat": 4,
 "nbformat_minor": 2
}
